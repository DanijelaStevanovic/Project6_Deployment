{
 "cells": [
  {
   "cell_type": "code",
   "execution_count": 40,
   "metadata": {},
   "outputs": [
    {
     "name": "stdout",
     "output_type": "stream",
     "text": [
      "...\n",
      "request successful\n",
      "...\n",
      "\"Your loan status is approved! [1]\"\n",
      "\n"
     ]
    }
   ],
   "source": [
    "## Python test for flask to test locally\n",
    "import requests as r\n",
    "import pandas as pd\n",
    "import json\n",
    "\n",
    "\n",
    "URL = 'http://127.0.0.1:5000/' \n",
    "\n",
    "json_data = {\n",
    "            \"Gender\": \"Male\",\n",
    "            \"Married\": \"Yes\",\n",
    "            \"Dependents\": \"2\",\n",
    "            \"Education\": \"Graduate\",\n",
    "            \"Self_Employed\": \"Yes\",\n",
    "            \"ApplicantIncome\": 4400,\n",
    "            \"CoapplicantIncome\": 1500,\n",
    "            \"LoanAmount\": 100.0,\n",
    "            \"Loan_Amount_Term\": 360.0,\n",
    "            \"Credit_History\": 1.0,\n",
    "            \"Property_Area\": \"Rural\",\n",
    "            \"Total_Income\": 5900\n",
    "            }\n",
    "\n",
    "# Get Response\n",
    "# response = r.get(base_url)\n",
    "response = r.post(URL + \"predict\", json = json_data)\n",
    "\n",
    "if response.status_code == 200:\n",
    "    print('...')\n",
    "    print('request successful')\n",
    "    print('...')\n",
    "    print(response.text)\n",
    "else:\n",
    "    print(response.text)\n",
    "    print('request failed')\n"
   ]
  }
 ],
 "metadata": {
  "kernelspec": {
   "display_name": "bootcamp",
   "language": "python",
   "name": "bootcamp"
  },
  "language_info": {
   "codemirror_mode": {
    "name": "ipython",
    "version": 3
   },
   "file_extension": ".py",
   "mimetype": "text/x-python",
   "name": "python",
   "nbconvert_exporter": "python",
   "pygments_lexer": "ipython3",
   "version": "3.9.16"
  },
  "orig_nbformat": 4
 },
 "nbformat": 4,
 "nbformat_minor": 2
}
